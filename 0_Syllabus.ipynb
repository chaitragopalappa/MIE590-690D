{
  "nbformat": 4,
  "nbformat_minor": 0,
  "metadata": {
    "colab": {
      "provenance": [],
      "authorship_tag": "ABX9TyMv7ESEq5AgIvFiZmOnlbpY",
      "include_colab_link": true
    },
    "kernelspec": {
      "name": "python3",
      "display_name": "Python 3"
    },
    "language_info": {
      "name": "python"
    }
  },
  "cells": [
    {
      "cell_type": "markdown",
      "metadata": {
        "id": "view-in-github",
        "colab_type": "text"
      },
      "source": [
        "<a href=\"https://colab.research.google.com/github/chaitragopalappa/MIE590-690D/blob/main/0_Syllabus.ipynb\" target=\"_parent\"><img src=\"https://colab.research.google.com/assets/colab-badge.svg\" alt=\"Open In Colab\"/></a>"
      ]
    },
    {
      "cell_type": "markdown",
      "source": [
        "# References\n",
        "\n",
        "\n",
        "1.  [Deep learning with Python (second edition) Francois Chollet, 2021](https://sourestdeeds.github.io/pdf/Deep%20Learning%20with%20Python.pdf){:target=\"_blank\"}\n",
        "\n",
        "2.   [Probabilistic machine learning, An Introduction, Kevn Murphy, MIT Press, 2022](https://probml.github.io/pml-book/book1.html){:target=\"_blank\"}; Chapters 13, 14, and 15\n",
        "\n",
        "\n",
        "3. [Deep Learning, Ian Goodfellow and Yoshua Bengio and Aaron Courville, MIT Press, 2016](http://www.deeplearningbook.org){:target=\"_blank\"}\n",
        "\n",
        "\n",
        "\n"
      ],
      "metadata": {
        "id": "7_k_cmNcif-B"
      }
    },
    {
      "cell_type": "markdown",
      "source": [
        "## Open source tutorials\n",
        "1. [Google's MAchine Learning Crash Course](https://developers.google.com/machine-learning/crash-course){:target=\"_blank\"} Use it for refersher to fundamentals of statistical ML (linear regression, logistic regression, decision trees, classificaton)\n",
        "2. [Tensorflow Hub](https://www.tensorflow.org/hub) Use it for sample codes on trained ML models"
      ],
      "metadata": {
        "id": "-HQmrHhVte7R"
      }
    },
    {
      "cell_type": "markdown",
      "source": [
        "# New Section"
      ],
      "metadata": {
        "id": "_QLZwTRnktix"
      }
    }
  ]
}