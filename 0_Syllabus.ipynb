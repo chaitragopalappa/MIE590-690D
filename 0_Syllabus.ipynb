{
  "nbformat": 4,
  "nbformat_minor": 0,
  "metadata": {
    "colab": {
      "provenance": [],
      "authorship_tag": "ABX9TyMDdUpajV7c6Qtum6iCkOKF",
      "include_colab_link": true
    },
    "kernelspec": {
      "name": "python3",
      "display_name": "Python 3"
    },
    "language_info": {
      "name": "python"
    }
  },
  "cells": [
    {
      "cell_type": "markdown",
      "metadata": {
        "id": "view-in-github",
        "colab_type": "text"
      },
      "source": [
        "<a href=\"https://colab.research.google.com/github/chaitragopalappa/UMassMIE-DeepLearning.github.io/blob/main/0_Syllabus.ipynb\" target=\"_parent\"><img src=\"https://colab.research.google.com/assets/colab-badge.svg\" alt=\"Open In Colab\"/></a>"
      ]
    },
    {
      "cell_type": "markdown",
      "source": [
        "# References\n",
        "\n",
        "\n",
        "1.  [Deep learning with Python (second edition) Francois Chollet, 2021](https://sourestdeeds.github.io/pdf/Deep%20Learning%20with%20Python.pdfList)\n",
        "\n",
        "2.   [Probabilistic machine learing, An Introduction, Kevn Murphy, MIT Press, 2022](https://probml.github.io/pml-book/book1.html); Chapters 13, 14, and 15\n",
        "\n",
        "\n",
        "3. [Deep Learning, Ian Goodfellow and Yoshua Bengio and Aaron Courville, MIT Press, 2016](http://www.deeplearningbook.org)\n",
        "\n",
        "\n",
        "\n"
      ],
      "metadata": {
        "id": "7_k_cmNcif-B"
      }
    },
    {
      "cell_type": "markdown",
      "source": [
        "# New Section"
      ],
      "metadata": {
        "id": "_QLZwTRnktix"
      }
    },
    {
      "cell_type": "markdown",
      "source": [],
      "metadata": {
        "id": "XrG6_xDEjkKD"
      }
    }
  ]
}