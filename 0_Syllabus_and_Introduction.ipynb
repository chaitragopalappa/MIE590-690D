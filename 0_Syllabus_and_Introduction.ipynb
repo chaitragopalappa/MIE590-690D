{
  "nbformat": 4,
  "nbformat_minor": 0,
  "metadata": {
    "colab": {
      "provenance": [],
      "authorship_tag": "ABX9TyO/uI3wPzarO5jQyh2E4MNV",
      "include_colab_link": true
    },
    "kernelspec": {
      "name": "python3",
      "display_name": "Python 3"
    },
    "language_info": {
      "name": "python"
    }
  },
  "cells": [
    {
      "cell_type": "markdown",
      "metadata": {
        "id": "view-in-github",
        "colab_type": "text"
      },
      "source": [
        "<a href=\"https://colab.research.google.com/github/chaitragopalappa/MIE590-690D/blob/main/0_Syllabus_and_Introduction.ipynb\" target=\"_parent\"><img src=\"https://colab.research.google.com/assets/colab-badge.svg\" alt=\"Open In Colab\"/></a>"
      ]
    },
    {
      "cell_type": "markdown",
      "source": [
        "# MIE 590D /690D Deep Learning for Engineering"
      ],
      "metadata": {
        "id": "P4suKwaoFbK-"
      }
    },
    {
      "cell_type": "markdown",
      "source": [
        "# Artificial Intelligence and Machine Learning - Overview\n",
        "*   Objective of AI/ML model: Fit a model to a given a dataset (i.e., learn the mathematical form of the data) to achieve a specific task\n",
        "*   Tasks could range from prediction, classificaton, clustering, to generative\n",
        "*   Multiple methods to achive this objective\n",
        "\n",
        "\n",
        "<table style=\"font-family: Arial, sans-serif; font-size: 20px;\">\n",
        "  <tr>\n",
        "    <th>ML category →</th>\n",
        "    <th>Supervised</th>\n",
        "    <th>Unsupervised/Semi-supervised</th>\n",
        "    <th>Reinforcement learning</th>\n",
        "  </tr>\n",
        "  <tr>\n",
        "    <td><strong>Tasks →</strong></td>\n",
        "    <td>Prediction, Classification, Inference, Generative</td>\n",
        "    <td>Clustering, Dimensionality reduction, Generative</td>\n",
        "    <td>Actions (decisions)</td>\n",
        "  </tr>\n",
        "  <tr>\n",
        "    <td><strong>Model-based or Statistical ML →</strong></td>\n",
        "    <td>\n",
        "      Linear regression, Logistic rergression, Decision trees, etc., <br>\n",
        "      <span style=\"color:#b8860b;\"><strong>(MIE 522/622)</strong></span>\n",
        "    </td>\n",
        "    <td>\n",
        "      K-means, PCA <br>\n",
        "      <span style=\"color:#b8860b;\"><strong>(MIE 522/622)</strong></span>\n",
        "    </td>\n",
        "    <td><span style=\"color:red;\"><strong>MIE 524/624</strong></span></td>\n",
        "  </tr>\n",
        "  <tr>\n",
        "    <td><strong>Deep Learning building blocks →</strong></td>\n",
        "    <td colspan=\"3\">\n",
        "      Feedforward linear or non-linear layers, convolution layers, recurrent layers, attention layers\n",
        "    </td>\n",
        "  </tr>\n",
        "  <tr>\n",
        "    <td><strong>Deep Learning (Model-free) methods →</strong></td>\n",
        "    <td>\n",
        "      FNN, CNN, RNN, Transformers, GNN <br>\n",
        "      <span style=\"color:green;\"><strong>(MIE 590/690D)</strong></span>\n",
        "    </td>\n",
        "    <td>\n",
        "      Autoencoders <br>\n",
        "      <span style=\"color:green;\"><strong>(MIE 590/690D)</strong></span>\n",
        "    </td>\n",
        "    <td><span style=\"color:red;\"><strong>MIE 524/624</strong></span></td>\n",
        "  </tr>\n",
        "  <tr>\n",
        "    <td><strong>Generative AI</strong></td>\n",
        "    <td colspan=\"3\">\n",
        "      LLM (BERT-encoder only transformer; GPT, LLaMA, DeepSeek-decoder only transformer)\n",
        "    </td>\n",
        "  </tr>\n",
        "</table>\n",
        "\n",
        "## Supervised v. unsupervised v. reinforcement learning\n",
        "* Supervised learning uses labeled data to train models\n",
        "* Unsupervised learning uses unlabeled data to find patterns and relationships\n",
        "* Reinforcement learning involves training agents to make decisions\n"
      ],
      "metadata": {
        "id": "3ucCWw7_Z4_b"
      }
    },
    {
      "cell_type": "markdown",
      "source": [
        "### [Graduate Certificate in AI-Engineering](https://www.umass.edu/engineering/academics/ai-engineering-graduate-certificate/curriculum-ai-graduate-certificate).\n",
        "Requirements: 3 courses at 600-level or higher  (one under each of below)\n",
        "* Core 1- Statistical Machine Learning (CEE 601 or MIE 622) (pre-requisite of this class)\n",
        "* Core 2 - Deep Learning (MIE 690D, ECE 601, or CEE 616)\n",
        "* Elective - Select from the [list]((https://www.umass.edu/engineering/academics/ai-engineering-graduate-certificate/curriculum-ai-graduate-certificate)) (inlcudes MIE 624)\n",
        "\n",
        "\n",
        "#### MIE 590D/690D Deep Learning for Engineering - Course Description\n",
        "\n",
        "* Exploration of deep learning techniques and their practical applications\n",
        "  * Topics include Artificial Neural Networks (ANNs), Convolutional Neural Networks (CNNs), Recurrent Neural Networks (RNNs), Autoencoders, and Transformers.\n",
        "* Delve into Explainable AI (XAI)\n",
        "  * Critical for application of AI for decision-making in engineering applications."
      ],
      "metadata": {
        "id": "ATWnQ2bKzHos"
      }
    },
    {
      "cell_type": "markdown",
      "source": [
        "## Questions\n",
        "\n",
        "What is deep learning - how is it differnt from statistical ML?\n",
        "\n",
        "What is XAI - why is it necessary for engineering?\n",
        "\n",
        "Why deep learning - why not use traditional engineering methods?\n",
        "\n",
        "What is AI-Engineering?\n"
      ],
      "metadata": {
        "id": "fjV-OEPfW2bJ"
      }
    },
    {
      "cell_type": "markdown",
      "source": [
        "# Overview of Statistical ML"
      ],
      "metadata": {
        "id": "zo0ci9edKO9Z"
      }
    },
    {
      "cell_type": "markdown",
      "source": [
        "$Basic$ Statistical ML(model-based)\n",
        "* [Linear regression for prediction]((https://developers.google.com/machine-learning/crash-course/linear-regression)\n",
        "    * [Model architecture](https://developers.google.com/machine-learning/crash-course/linear-regression): linear equation\n",
        "    $\\hat{y} = b+ w_1 x_1 + w_2 x_2 + w_3 x_3 + ... + w_N x_N$\n",
        "    * [Model fitting or Objective function](https://developers.google.com/machine-learning/crash-course/linear-regression/loss): minimize \"Loss\" between actual values ($y$) and predicted values ($\\hat{y}$)\n",
        "    $$min_{\\mathbf{w}}L(\\mathbf{w})$$\n",
        "\n",
        "    $$ L(\\mathbf{w}) = \\sum_{i=1}^n (y_i - \\mathbf{w}^\\top \\mathbf{x}_i)^2$$\n",
        "\n",
        "    * [Optimizer(solution method)](https://colab.research.google.com/drive/1pPB_YTQ93pXyXctHPP-TMBN5woWJvV6J#scrollTo=ZbhdrHKpaeAl) or [Link 2](https://developers.google.com/machine-learning/crash-course/linear-regression/gradient-descent): stochastic gradient descent\n",
        "\n",
        "    * [Regularization techniques (to avoid overfitting)](https://aunnnn.github.io/ml-tutorial/html/blog_content/linear_regression/linear_regression_regularized.html): Ridge, Lasso, Elastic Net"
      ],
      "metadata": {
        "id": "0P6EsxBLaHMg"
      }
    },
    {
      "cell_type": "markdown",
      "source": [
        " $Add$ Non-linearity\n",
        " * [Polynomial regression for prediction]((https://developers.google.com/machine-learning/crash-course/linear-regression)\n",
        "    * [Model architecture](https://developers.google.com/machine-learning/crash-course/linear-regression): Assume a suitable polynomial form to add non-linearity to the model (feature preprocessing or feature engineering), e.g.,  $\\hat{y} = b+ w_1 x_1 + w_2 x_2 + w_3 x_1^2 + w_4 x_1 x_2$\n",
        "    * Transform polynomial to linear equation\n",
        "      $\\hat{y} = b + w_1 u_1 + w_2 u_2 + w_3 u_3 + w_4 u_4;$ where $u_1 =x_1; u_2 = x_2; u_3 = x_1^2; u_4 = x_1 x_2 $\n",
        "    * Everything else follows linear regression"
      ],
      "metadata": {
        "id": "Kqic3q1fg9g6"
      }
    },
    {
      "cell_type": "markdown",
      "source": [
        "## Challenges with model-based or Statistical ML\n",
        "Not suitable for complex non-linear functions, where linear or manual feature engineering of the non-linearities (e.g., polynomial regression) are not a sufficient approximation  \n",
        "\n",
        "## Alternative approach -  Deep learning\n",
        "Learns or automatically extracts the features /learns patterns (linear or non-linear) from data\n"
      ],
      "metadata": {
        "id": "X-jk_wZlgFK0"
      }
    },
    {
      "cell_type": "markdown",
      "source": [
        "# Deep Learning - Overview"
      ],
      "metadata": {
        "id": "XtMiAuM2KttS"
      }
    },
    {
      "cell_type": "markdown",
      "source": [
        "$Basic$ DL\n",
        "### Example: Prediction\n",
        "Suppose $\\mathbf{y}=f(\\mathbf{x}); \\\\ \\mathbf{x}\\in \\mathbb{R}^5; \\mathbf{y}\\in\\mathbb{R}^1$  \n",
        "\n",
        "A Multi Layer Perceptron (MLP) or Feed Forward NN (FFNN) (simplest DL) model will predict  \n",
        " $\\hat{y}= f_L \\circ f_{L-1}\\circ f_{L-2} \\dots \\circ f_1$  \n",
        "\n",
        "where,  \n",
        "$\\mathbf{\\mathit{z}}_l = f_l(\\mathbf{\\mathit{z}}_{l−1}) = \\varphi_l(\\mathbf{\\mathit{b}}_l +\\mathbf{W}_l z_{l−1})$  (Vector form)  \n",
        "$z_{kl} = \\varphi_l (b_{kl} +\\sum_{j=1}^{K_{l-1}}{W}_{jkl}z_{jl−1})$  (Scalar form)  \n",
        " $\\varphi_l (.)$ is an **activation function** that adds non-linearity to the linear transformation $(\\mathbf{\\mathit{b}}_l +\\mathbf{W}_l z_{l−1})$\n",
        "\n",
        "In figure: $\\sigma=  φ_l (b_{kl} +\\sum_{j=1}^{K_{l-1}}{W}_{jkl}z_{jl−1}) $ ..\n",
        "We can add any number of layers and nodes per layer, all with same activation function\n",
        "\n",
        "  <img src=\" https://raw.githubusercontent.com/chaitragopalappa/MIE590-690D/main/images/supply_chain_nn.png\" width=\"65%\" />\n",
        "\n",
        "\n"
      ],
      "metadata": {
        "id": "x3RMaQO0abgX"
      }
    },
    {
      "cell_type": "markdown",
      "source": [
        "Classification problem (e.g., image classification)\n",
        "\n",
        "$Pr(y|\\mathbf{x})$;   $\\mathbf{x}\\in \\mathbb{R}^{H \\times W\\times C}$,\n",
        "\n",
        "where,\n",
        "\n",
        " $H \\times W\\times C $ represents width, height, and channels (color e.g., RGB);  \n",
        "\n",
        " We can still use MLP as in prediction problem, but\n",
        " $\\mathbf{x}$ is first flattened into 1D array for input to MLP.\n",
        "\n",
        "<img src=\"https://raw.githubusercontent.com/chaitragopalappa/MIE590-690D/main/images/MLP_Image.png\" width=\"400\" height=\"200\">"
      ],
      "metadata": {
        "id": "_OxqLF-0ebXd"
      }
    },
    {
      "cell_type": "markdown",
      "source": [
        "# Interpretability or Explainability in AI (XAI)"
      ],
      "metadata": {
        "id": "5rrsbfFzO0U-"
      }
    },
    {
      "cell_type": "markdown",
      "source": [
        "## Interpretability or Explainability in AI (XAI)\n",
        "How you do you interpret the below models?\n",
        "1. Linear regression\n",
        " $\\hat{y} = b+ w_1 x_1 + w_2 x_2 + w_3 x_3 + ... + w_N x_N$\n",
        "\n",
        "2. FFNN   \n",
        " $\\hat{y}= f_L \\circ f_{L-1}\\circ f_{L-2} \\dots \\circ f_1$  \n",
        "\n",
        "where,  \n",
        "$\\mathbf{\\mathit{z}}_l = f_l(\\mathbf{\\mathit{z}}_{l−1}) = \\varphi_l(\\mathbf{\\mathit{b}}_l +\\mathbf{W}_l z_{l−1})$  (Vector form)  \n",
        "\n",
        "<img src=\" https://raw.githubusercontent.com/chaitragopalappa/MIE590-690D/main/images/supply_chain_nn.png\" width=\"65%\" />\n",
        "\n",
        "\n"
      ],
      "metadata": {
        "id": "iWeT08C1hkUb"
      }
    },
    {
      "cell_type": "markdown",
      "source": [
        "## Your inputs\n",
        "* Examples where AI/ML in general or deep learning have been applied?\n",
        "* In your specfic area how do you envision using deep learning?\n",
        "* What are the issues you want to be cautious of when using deep learning in your specific areas?"
      ],
      "metadata": {
        "id": "-sgp_Ebzw8-x"
      }
    },
    {
      "cell_type": "markdown",
      "source": [
        "# Bias in AI/ML Models"
      ],
      "metadata": {
        "id": "ruv3swcCQWgg"
      }
    },
    {
      "cell_type": "markdown",
      "source": [
        "**Bias in AI/ML models**\n",
        "* [AI chatbots often advise women to ask for lower pay than men: new study](https://womensagenda.com.au/tech/ai-chatbots-often-advise-women-to-ask-for-lower-pay-than-men-new-study/)  \n",
        "[Study 1](https://pmc.ncbi.nlm.nih.gov/articles/PMC11805401/#:~:text=One%20limitation%20and%20area%20for%20future%20work,university%20and%20major%2C%20as%20universities%20can%20have); [Study 2](https://arxiv.org/abs/2506.10491)\n",
        "\n",
        "Are AI/ML models the monsters?"
      ],
      "metadata": {
        "id": "Ce9HLZDGyebq"
      }
    },
    {
      "cell_type": "markdown",
      "source": [
        "## Interpretable Machine Learning (IML) or Explainable AI (XAI)\n",
        "How you do you interpret the below models?\n",
        "1. Linear regression\n",
        " $\\hat{y} = b+ w_1 x_1 + w_2 x_2 + w_3 x_3 + ... + w_N x_N$\n",
        "\n",
        "* Interpretation: denote an increase of feature by one unit increases the prediction by 'w' units when all other feature values remain fixed.\n",
        "* **Everything else constant (exellence, experience, etc.), if salary is based on gender, we can identify the bias**\n",
        "\n",
        "\n",
        "2. Deep Learning\n",
        "* **Extracts patterns from data - no way to directly interpret**\n",
        "\n",
        "<img src=\" https://raw.githubusercontent.com/chaitragopalappa/MIE590-690D/main/images/supply_chain_nn.png\" width=\"65%\" />"
      ],
      "metadata": {
        "id": "tN5TB-dZBvHf"
      }
    },
    {
      "cell_type": "markdown",
      "source": [
        "**Are AI/ML Models the Monsters?**\n",
        "\n",
        "**STUDY  1:**\n",
        "* About n=251 professors were asked to review 1 of 8 identical CVs of candidates for postdoc.\n",
        "* Candidate Name on CV were used to manipulate candidates race and gender.\n",
        "\n",
        "RESULTS\n",
        "* Male post-doc candidates rated as more competent and hireable than female candidates;\n",
        "* White and Asian candidates rated as more competent and hireable than Black and Latinx candidates.\n",
        "* Black women and Latinx women and men candidates were rated the lowest in hireability compared to all others.\n",
        "\n",
        "\n",
        "**STUDY 2:**\n",
        "For an undergraduate lab manager position:\n",
        "* Male and female science professors at R1 Universities each rated one application\n",
        "* Same application, only the name was different Karen or Brian\n",
        "\n",
        "RESULTS\n",
        "* Male applicant rated as more competent, more hirable, more suitable for mentoring, and offered them higher salaries.\n",
        "\n",
        "**STUDY 3:**\n",
        "* Study in 2004: Exact same resumes were sent out, with only the name of the applicant changed.\n",
        "\n",
        "RESULT:\n",
        "* Names inferred to be White (Emily/Greg) received 50% more callbacks for interviews than names inferred to be Black (Lakesha/Jamal).\n",
        "\n",
        "**STUDY 4:**\n",
        "* Two decades later, a new study shows that not much has changed (Patrick Kline, et al., 2021)\n",
        "\n",
        "\n",
        "References\n",
        "* Jost, J. T. (2019). The IAT Is Dead, Long Live the IAT: Context-Sensitive Measures of Implicit Attitudes Are Indispensable to Social and Political Psychology. Current Directions in Psychological Science, 28(1), 10–19. https://doi.org/10.1177/0963721418797309\n",
        "* Greenwald AG, Banaji MR. The implicit revolution: Reconceiving the relation between conscious and unconscious. Am Psychol. 2017 Dec;72(9):861-871. doi: 10.1037/amp0000238. PMID: 29283625.\n",
        "* Ridgeway, C. L., & Nakagawa, S. (2017). Is Deference the Price of Being Seen as Reasonable? How Status Hierarchies Incentivize Acceptance of Low Status. Social Psychology Quarterly, 80(2), 132–152. https://doi.org/10.1177/0190272517695213\n",
        "* Moss-Racusin, et al. Science faculty’s subtle gender biases favor male students, (2012). PNAS 109(41), 16474-16479.\n",
        "* Madera, J. M., Hebl, M. R., Dial, H., Martin, R., & Valian, V. (2019). Raising doubt in letters of recommendation for academia: Gender differences and their impact. Journal of Business and Psychology, 34(3), 287–303. https://doi.org/10.1007/s10869-018-9541-1\n",
        "* Bertrand, Marianne, and Sendhil Mullainathan. 2004. \"Are Emily and Greg More Employable Than Lakisha and Jamal? A Field Experiment on Labor Market Discrimination.\" American Economic Review, 94 (4): 991-1013.DOI: 10.1257/0002828042002561\n",
        "* Eaton, A. A., Saunders, J. F., Jacobson, R. K., & West, K. (2019). How Gender and Race Stereotypes Impact the Advancement of Scholars in STEM: Professors’ Biased Evaluations of Physics and Biology Post-Doctoral Candidates. Sex Roles, 1-15. doi: 10.1007/s11199-019-01052-w\n",
        "* Patrick Kline, et al. Systemic Discrimination Among Large U.S. Employers, The Quarterly Journal of Economics, Volume 137, Issue 4, November 2022, Pages 1963–2036, https://doi.org/10.1093/qje/qjac024\n",
        "* Knobloch-Westerwick, S., Glynn, C. J., & Huge, M. (2013). The Matilda Effect in Science Communication: An Experiment on Gender Bias in Publication Quality Perceptions and Collaboration Interest. Science Communication, 35(5), 603–625. https://doi.org/10.1177/1075547012472684\n",
        "\n"
      ],
      "metadata": {
        "id": "L7V4pXsv2vp5"
      }
    },
    {
      "cell_type": "markdown",
      "source": [
        "**Are Professor/ Employers the Monsters?**\n",
        "\n",
        "STUDY 1:\n",
        "* 19,952 student evaluations of university faculty in a context where students are randomly allocated to female or male instructors.  \n",
        "RESULTS:\n",
        "* Women receive systematically lower teaching evaluations than their male colleagues, larger difference for mathematical courses, and junior women\n",
        "\n",
        "STUDY 2:\n",
        "* Six hundred and seventy-one university students were asked to watch a video lecture delivered by either a male or female lecturer\n",
        "* To ensure consistency across content, tone, delivery, environment, and overall appearance, photorealistic 3D avatars were used to deliver the lectures. Only gender as a factor was manipulated.   \n",
        "RESULTS:\n",
        "* Overall male instructors scored significantly higher\n",
        "\n",
        "STUDY 3:\n",
        "* One male instructor provided the same guest lecture to 8 sections of a communication course.\n",
        "* In half of the sections, he referred to “my partner” as Jennifer, and in the other half as Jason.  \n",
        "RESULTS:\n",
        "* The “straight” instructor received 22% more positive comments than the “gay” instructor.\n",
        "* The “gay” instructor received five times as many critical comments as the “straight” instructor.\n",
        "\n",
        "References\n",
        "* Russ, et al. (2002). Coming Out in the Classroom . . . An Occupational Hazard?: The Influence of Sexual Orientation on Teacher Credibility and Perceived Student Learning. Communication Education, 51(3), 311-324.\n",
        "*  Mengel, F. etl al., GENDER BIAS IN TEACHING EVALUATIONS, Journal of the European Economic Association 2019 17(2):535–566\n",
        "*  Khokhlova, O. et. al., Front. Educ., 26 July 2023 Sec. Higher Education Volume 8 - 2023\n",
        "\n",
        "\n"
      ],
      "metadata": {
        "id": "WZGJe6ZV7IOA"
      }
    },
    {
      "cell_type": "markdown",
      "source": [
        "## **AI amplifies Bias introduced by humans**\n",
        "\n",
        "* Implicit bias is part of each of us (introduced by the environment we grow-up in)\n",
        "* Consciously check our own biases - if you are part of generating the data or determining what data to use for model training\n",
        "* Check for data bias\n",
        "* Check for model bias"
      ],
      "metadata": {
        "id": "utvsMR3vfWts"
      }
    },
    {
      "cell_type": "markdown",
      "source": [
        "## Lack of interpretability/ explainability can introduce bias in predictions.\n",
        "\n",
        "Then, is interpretability/ explainability only relevant for social science based applications?"
      ],
      "metadata": {
        "id": "Hptonb7WUJkJ"
      }
    },
    {
      "cell_type": "markdown",
      "source": [
        "## Image data - Bias\n",
        "* [Facial recognition examples are probably more familiar](https://sciencepolicy.hsites.harvard.edu/blog/racial-discrimination-face-recognition-technology)\n",
        "* For engineering applications?\n",
        "  * [Tree species classification problem -Figure 1](https://dl.acm.org/doi/pdf/10.1145/3563691): The highlighted features show the model was 'looking' at the building when making its decision\n",
        "  * Defect detection in manufacturing\n",
        "  "
      ],
      "metadata": {
        "id": "RjtdknhxNGzh"
      }
    },
    {
      "cell_type": "markdown",
      "source": [
        "# What is AI-Engineering?\n",
        "\n",
        "Model requirements for engineering applications\n",
        "* Interpretable/ explainable\n",
        "* Robust\n",
        "\n",
        "**AI-Engineering**\n",
        "AI Engineering is a nascent field leveraging the traditional strengths of engineering disciplines with developments in artificial intelligence (AI). The term was coined by the NSF Engineering Research Visioning Alliance (ERVA), Report | AI Engineering: A Strategic Research Framework to Benefit Society. As the report highlights “AI Engineering will be bidirectional and reciprocal: it evokes a future vision in which an engineering approach makes for better AI while AI makes for better-engineered systems.\"\n",
        "\n",
        "The report coins the term AI Engineering as an **amalgamation of topics in \"Engineering for AI\" and \"AI for Engineering.\"** Engineering for AI integrates engineering techniques and domain knowledge across various disciplines to develop explainable and reliable AI-enabled systems. AI for Engineering, on the other hand, utilizes AI to enhance computational efficiency, automation, creativity, and scalability in engineered systems and processes."
      ],
      "metadata": {
        "id": "vmAysbNzz4Kb"
      }
    },
    {
      "cell_type": "markdown",
      "source": [
        "# Engineering Applications of Deep Learning"
      ],
      "metadata": {
        "id": "Z7tG_YWoTgda"
      }
    },
    {
      "cell_type": "markdown",
      "source": [
        "## Applications of AI/ML in my lab:\n",
        "\n",
        "1. Predicting outbreaks (HIV, COVID, TB) for rapid response (millions of lives, billions of dollars)\n",
        "    * Create national-level models for prediction and intervention decision analyses\n",
        "    * Every jurisdiction has a different epidemic - need autonomous policies, however, jurisdictions are not isolated from epidmic standpoint (infection percolate across boundaries)\n",
        "    * Behaviors not driven one factor - not quanrantining or taking medication (whihc could prevent spread) could be from forgetting to take, not having insurance, basic needs (e.g., food and housing) may take higher priority, unable to take leave to keep health appointment (for renewal of medication); Not considering these social determinants of behaviors can lead to predicton and resource allocation errors\n",
        "\n",
        "2. Predicting dimensions of nutrition health (behavioral, economic insecurity, scoial barriers - housing/transportation barriers, disability- physical / mental health barriers to access)\n",
        "\n",
        "**Applicaton examples**:\n",
        "* Resource allocation in U.S. Ending the HIV Epidemic national plan\n",
        "* Screeening guidelines in WHO Global Action PLan for low-and-middle-income countries (to inform UN Sustainable Goals)\n",
        "\n",
        "**Challenges**:\n",
        "* Developing mechanistic/physics informed models not feasible given complexity\n",
        "* Learning purely from data is computationally expensive, not robust, not interpretable\n",
        "\n",
        "\n",
        "**Approach**: Incorporating mechanistic models into ML models (Engineering in AI and AI in Engineering)\n",
        "* Copula informed ML\n",
        "* Network theories infomred deep learning of network growth\n",
        "* Simulation assisted RL\n",
        "* Differential equations model in multi-agent Deep RL\n",
        "\n",
        "\n",
        "\n",
        "\n",
        "\n",
        "\n"
      ],
      "metadata": {
        "id": "ldqeatpSDseN"
      }
    },
    {
      "cell_type": "markdown",
      "source": [
        "## **Seminar on September 12th**\n",
        "* Scalable Multi-agent Reinforcement Learning for Factory-wide Dynamic Scheduling, Prof. Diego Klabjan from Northwestern University\n",
        "* Friday, August 12, from 12–1pm in the Gunness Student Center."
      ],
      "metadata": {
        "id": "I_7lQczMS6eO"
      }
    },
    {
      "cell_type": "markdown",
      "source": [
        "# Course Schedule\n",
        "\n",
        "| **Date** | **Week** | **Topic** | **Mon/Wed** |\n",
        "|----------|----------|------------|--------------|\n",
        "| 1-Sep    | Week 1   | Introduction | — |\n",
        "| 8-Sep    | Week 2   | Overview of SML | Lecture / Lab |\n",
        "| **Neural Networks for Structured Data** | | | |\n",
        "| 15-Sep   | Week 3   | FFNN basics | Lecture / Lab |\n",
        "| 22-Sep   | Week 4   | FFNN deeper-dive | Lecture / Lab |\n",
        "| 29-Sep   | Week 5   | Explainable AI (XAI) | Lecture / Lab |\n",
        "| 6-Oct    | Week 6   | Engineering in AI | Lecture / Lab |\n",
        "| 13-Oct   | Week 7   | Midterm Exam 1 | Holiday / Exam 1 |\n",
        "| **Neural Networks for Images** | | | |\n",
        "| 20-Oct   | Week 8   | CNN | Lecture / Lab |\n",
        "| 27-Oct   | Week 9   | XAI for CNN | (Traveling–INFORMS conference) Lecture / Lab |\n",
        "| **Neural Networks for Sequences** | | | |\n",
        "| 3-Nov    | Week 10  | RNN | Lecture / Lab |\n",
        "| 10-Nov   | Week 11  | Advanced RNN | Lecture / Lab |\n",
        "| 17-Nov   | Week 12  | Autoencoders, Attention networks | Lecture / Lab |\n",
        "| 24-Nov   | Week 13  | Midterm Exam 2 | Exam 2 / Holiday |\n",
        "| 1-Dec    | Week 14  | Transformers, LLM | Lecture / Lab |\n",
        "| 8-Dec    | Week 15  | Project presentation / No class | — |\n",
        "|          |          | **Project report due Dec 14 (Sunday)** | |\n",
        "\n",
        "\n",
        "\n"
      ],
      "metadata": {
        "id": "xYCUYck0kbbc"
      }
    },
    {
      "cell_type": "markdown",
      "source": [
        "## **Learning outcomes**\n",
        "1. Build a strong foundation of the fundamentals of Deep Learning\n",
        "2. Ability to not only use AI in Engineering, but also envision use of Engineering in AI (I am referring to Engineering in broad terms; each of you have your own branch and sub-branches, which is outside my expertise even)\n",
        "3. Develop the skills to be part of the workforce transformation, and lead the industry in the AI transformation for effectiveness (doing thing faster and better than with current methods) or innovation (solve problems that seemd beyond reach prior to AI)\n",
        "4. Learn how to learn in a continuously evolving landscape\n",
        "\n",
        "## My expectations\n",
        "* I view this class as a partnership between myself and each student as well as between each of you.\n",
        "* I view a classroom setting as a place to learn - in a supported environment without judgement - and grow as individuals to contribute positively to the community.\n",
        "* I look forward to working and learning together.\n"
      ],
      "metadata": {
        "id": "kS0NgIgFWDCb"
      }
    },
    {
      "cell_type": "markdown",
      "source": [
        "**Assignments**\n",
        "* Midterm 1: 20 points\n",
        "*\tMidterm 2: 20 points\n",
        "*\tComputational assignment 1: 10 points\n",
        "*\tComputational assignment 2: 10 points\n",
        "*\tClass participation: 10 points (computational assignments in lab)\n",
        "*\tTeam Project (2 per group): 30 points   \n",
        "*Assignments for the 600-level class will have an additional question that requires an understanding of the techniques studied.*\n",
        "\n",
        "**Late submission**   \n",
        "There will be a penalty for late submission, on a per day basis with a limit. Default: 1 point penalty per day for maximum of 3 days (subject to change). Applies to the two computational assignments.\n",
        "\n",
        "Assignment submissions: Canvas\n"
      ],
      "metadata": {
        "id": "Yn-eH_dvwELr"
      }
    },
    {
      "cell_type": "markdown",
      "source": [
        "## Office Hours\n",
        "\n",
        "**Mondays 1:00 – 3:00 PM, Thursdays 1:00 – 3:00 PM**\n",
        "\n",
        "Office: ELab I, 208A\n",
        "\n",
        "* Office hours are an informal opportunity for engagement between you and me.\n",
        "* Use if for general discussions related to your scholarly work, professional development, career interests etc.\n",
        "* Use it for questions related to this course - improve technical understanding, build confidence, ask for clarification, and practice self-advocacy.\n",
        "* You can come by yourself or with classmates.\n"
      ],
      "metadata": {
        "id": "0fYuVZVmeboR"
      }
    },
    {
      "cell_type": "markdown",
      "source": [
        "# References\n",
        "1. [Probabilistic machine learing, An Introduction, Kevn Murphy, MIT Press, 2022](https://probml.github.io/pml-book/book1.html); Chapters 13, 14, and 15      \n",
        "\n",
        "2.  I will use additional resources to supplement the main book\n",
        "* [Deep Learning, Ian Goodfellow and Yoshua Bengio and Aaron Courville, MIT Press, 2016](http://www.deeplearningbook.org)\n",
        "* [Hands-on Machine Learning with Scikit-Learn, Keras and TensorFlow (3rd edition), by Aurélien Geron](https://github.com/ageron/handson-ml3)\n",
        "* [Deep learning with Python, Francois Chollet](https://sourestdeeds.github.io/pdf/Deep%20Learning%20with%20Python.pdf)\n",
        "  * [GITHUB with Keras](https://github.com/fchollet/deep-learning-with-python-notebooks/blob/master/README.md)\n",
        "* [Interpretable Machine Learning: A Guide for Making Black Box Models Explainable, by Christoph Molnar](https://christophm.github.io/interpretable-ml-book/)\n",
        "* [Dive into Deep Learning, by Aston Zhang, Zachary C. Lipton, Mu Li, Alexander J. Smola](https://d2l.ai/index.html)\n",
        "* XAI packages  \n",
        "  * [SHAP](https://github.com/shap/shap#deep-learning-example-with-gradientexplainer-tensorflowkeraspytorch-models)  \n",
        "  * [CAPTUM](https://captum.ai/docs/attribution_algorithms)  \n",
        "  * [TF-Explain](https://pypi.org/project/tf-explain/) [GitHUB](https://github.com/sicara/tf-explain)\n",
        "* [Hands-On-Deep-Learning-Algorithms-with-Python](https://github.com/PacktPublishing/Hands-On-Deep-Learning-Algorithms-with-Python/tree/master)\n",
        "\n",
        "\n",
        "\n"
      ],
      "metadata": {
        "id": "7_k_cmNcif-B"
      }
    },
    {
      "cell_type": "markdown",
      "source": [
        "## Open source tutorials for topics related to course prequisites\n",
        "1. [Google's MAchine Learning Crash Course](https://developers.google.com/machine-learning/crash-course){:target=\"_blank\"} Overview of statistical ML (linear regression, logistic regression, decision trees, classificaton)\n",
        "2. [Python scripts for statistical machine learning using Scikit Learn](https://scikit-learn.org/stable/user_guide.html)\n",
        "2. [Python scripts for statistical machine learning using Tensorflow](https://www.tensorflow.org/hub/tutorials)"
      ],
      "metadata": {
        "id": "-HQmrHhVte7R"
      }
    },
    {
      "cell_type": "markdown",
      "source": [
        "# INFORMS Data Challenege Competition\n",
        "[Power outage prediction](https://sites.google.com/view/dmdaworkshop2025/data-challenge)\n",
        "\"*Accurate short-term outage forecasting is essential for improving grid resilience, enabling proactive crew deployment, optimizing resource allocation, and ultimately minimizing societal and economic impacts.*\"  \n",
        "Competition will run until September 26th, 2025.  \n",
        "Registration will close Friday, September 5 (AOE)."
      ],
      "metadata": {
        "id": "_QLZwTRnktix"
      }
    },
    {
      "cell_type": "markdown",
      "metadata": {
        "id": "41a6748e"
      },
      "source": [
        "# MIE 590D /690D Deep Learning for Engineering"
      ]
    },
    {
      "cell_type": "markdown",
      "metadata": {
        "id": "faf5b145"
      },
      "source": [
        "# Artificial Intelligence and Machine Learning - Overview\n",
        "* Objective of AI/ML model: Fit a model to a given a dataset (i.e., learn the mathematical form of the data) to achieve a specific task\n",
        "* Tasks could range from prediction, classification, clustering, to generative\n",
        "* Multiple methods to achieve this objective\n",
        "\n",
        "| ML category → | Supervised | Unsupervised/Semi\\-supervised | Reinforcement learning |\n",
        "| --- | --- | --- | --- |\n",
        "| **Tasks →** | Prediction, Classification, Inference, Generative | Clustering, Dimensionality reduction, Generative | Actions (decisions) |\n",
        "| **Model\\-based or Statistical ML →** | Linear regression, Logistic regression, Decision trees, etc.,  **(MIE 522/622\\)** | K\\-means, PCA  **(MIE 522/622\\)** | **MIE 524/624** |\n",
        "| **Deep Learning building blocks →** | Feedforward linear or non\\-linear layers, convolution layers, recurrent layers, attention layers | | |\n",
        "| **Deep Learning (Model\\-free) methods →** | FNN, CNN, RNN, Transformers, GNN  **(MIE 590/690D)** | Autoencoders  **(MIE 590/690D)** | **MIE 524/624** |\n",
        "| **Generative AI** | LLM (BERT\\-encoder only transformer; GPT, LLaMA, DeepSeek\\-decoder only transformer) | | |\n",
        "\n",
        "## Supervised v. unsupervised v. reinforcement learning\n",
        "* Supervised learning uses labeled data to train models\n",
        "* Unsupervised learning uses unlabeled data to find patterns and relationships\n",
        "* Reinforcement learning involves training agents to make decisions\n"
      ]
    },
    {
      "cell_type": "markdown",
      "metadata": {
        "id": "79477a03"
      },
      "source": [
        "### [Graduate Certificate in AI-Engineering](https://www.umass.edu/engineering/academics/ai-engineering-graduate-certificate/curriculum-ai-graduate-certificate).\n",
        "Requirements: 3 courses at 600-level or higher  (one under each of below)\n",
        "* Core 1- Statistical Machine Learning (CEE 601 or MIE 622) (pre-requisite of this class)\n",
        "* Core 2 - Deep Learning (MIE 690D, ECE 601, or CEE 616)\n",
        "* Elective - Select from the [list]((https://www.umass.edu/engineering/academics/ai-engineering-graduate-certificate/curriculum-ai-graduate-certificate)) (includes MIE 624)\n",
        "\n",
        "#### MIE 590D/690D Deep Learning for Engineering - Course Description\n",
        "\n",
        "* Exploration of deep learning techniques and their practical applications\n",
        "  * Topics include Artificial Neural Networks (ANNs), Convolutional Neural Networks (CNNs), Recurrent Neural Networks (RNNs), Autoencoders, and Transformers.\n",
        "* Delve into Explainable AI (XAI)\n",
        "  * Critical for application of AI for decision-making in engineering applications.\n"
      ]
    },
    {
      "cell_type": "markdown",
      "metadata": {
        "id": "09f8e959"
      },
      "source": [
        "## Questions\n",
        "\n",
        "What is deep learning - how is it different from statistical ML?\n",
        "\n",
        "What is XAI - why is it necessary for engineering?\n",
        "\n",
        "Why deep learning - why not use traditional engineering methods?\n",
        "\n",
        "What is AI-Engineering?\n"
      ]
    },
    {
      "cell_type": "markdown",
      "metadata": {
        "id": "cbe238e5"
      },
      "source": [
        "# Overview of Statistical ML"
      ]
    },
    {
      "cell_type": "markdown",
      "metadata": {
        "id": "a18b3640"
      },
      "source": [
        "$Basic$ Statistical ML(model-based)\n",
        "* [Linear regression for prediction]((https://developers.google.com/machine-learning/crash-course/linear-regression)\n",
        "  * [Model architecture](https://developers.google.com/machine-learning/crash-course/linear-regression): linear equation\n",
        "$\\hat{y} = b+ w_1 x_1 + w_2 x_2 + w_3 x_3 + ... + w_N x_N$\n",
        "  * [Model fitting or Objective function](https://developers.google.com/machine-learning/crash-course/linear-regression/loss): minimize \"Loss\" between actual values ($y$) and predicted values ($\\hat{y}$)\n",
        "$$min_{\\mathbf{w}}L(\\mathbf{w})$$\n",
        "  \n",
        "  $$ L(\\mathbf{w}) = \\sum_{i=1}^n (y_i - \\mathbf{w}^\\top \\mathbf{x}_i)^2$$\n",
        "  \n",
        "  * [Optimizer(solution method)](https://colab.research.google.com/drive/1pPB_YTQ93pXyXctHPP-TMBN5woWJvV6J#scrollTo=ZbhdrHKpaeAl) or [Link 2](https://developers.google.com/machine-learning/crash-course/linear-regression/gradient-descent): stochastic gradient descent\n",
        "  * [Regularization techniques (to avoid overfitting)](https://aunnnn.github.io/ml-tutorial/html/blog_content/linear_regression/linear_regression_regularized.html): Ridge, Lasso, Elastic Net\n"
      ]
    },
    {
      "cell_type": "markdown",
      "metadata": {
        "id": "821774cd"
      },
      "source": [
        "$Add$ Non-linearity\n",
        "* [Polynomial regression for prediction]((https://developers.google.com/machine-learning/crash-course/linear-regression)\n",
        "  * [Model architecture](https://developers.google.com/machine-learning/crash-course/linear-regression): Assume a suitable polynomial form to add non-linearity to the model (feature preprocessing or feature engineering), e.g.,  $\\hat{y} = b+ w_1 x_1 + w_2 x_2 + w_3 x_1^2 + w_4 x_1 x_2$\n",
        "  * Transform polynomial to linear equation\n",
        "$\\hat{y} = b + w_1 u_1 + w_2 u_2 + w_3 u_3 + w_4 u_4;$ where $u_1 =x_1; u_2 = x_2; u_3 = x_1^2; u_4 = x_1 x_2 $\n",
        "  * Everything else follows linear regression\n"
      ]
    },
    {
      "cell_type": "markdown",
      "metadata": {
        "id": "b639a06a"
      },
      "source": [
        "## Challenges with model-based or Statistical ML\n",
        "Not suitable for complex non-linear functions, where linear or manual feature engineering of the non-linearities (e.g., polynomial regression) are not a sufficient approximation  \n",
        "\n",
        "## Alternative approach -  Deep learning\n",
        "Learns or automatically extracts the features /learns patterns (linear or non-linear) from data\n"
      ]
    },
    {
      "cell_type": "markdown",
      "metadata": {
        "id": "2a578273"
      },
      "source": [
        "# Deep Learning - Overview"
      ]
    },
    {
      "cell_type": "markdown",
      "metadata": {
        "id": "44d91453"
      },
      "source": [
        "$Basic$ DL\n",
        "### Example: Prediction\n",
        "Suppose $\\mathbf{y}=f(\\mathbf{x}); \\\\ \\mathbf{x}\\in \\mathbb{R}^5; \\mathbf{y}\\in\\mathbb{R}^1$  \n",
        "\n",
        "A Multi Layer Perceptron (MLP) or Feed Forward NN (FFNN) (simplest DL) model will predict\\\n",
        "$\\hat{y}= f_L \\circ f_{L-1}\\circ f_{L-2} \\dots \\circ f_1$  \n",
        "\n",
        "where,\\\n",
        "$\\mathbf{\\mathit{z}}*l = f_l(\\mathbf{\\mathit{z}}*{l−1}) = \\varphi_l(\\mathbf{\\mathit{b}}*l +\\mathbf{W}*l z*{l−1})$  (Vector form)\\\n",
        "$z*{kl} = \\varphi_l (b_{kl} +\\sum_{j=1}^{K_{l-1}}{W}*{jkl}z*{jl−1})$  (Scalar form)\\\n",
        "$\\varphi_l (.)$ is an **activation function** that adds non-linearity to the linear transformation $(\\mathbf{\\mathit{b}}_l +\\mathbf{W}*l z*{l−1})$\n",
        "\n",
        "In figure: $\\sigma=  φ_l (b_{kl} +\\sum_{j=1}^{K_{l-1}}{W}*{jkl}z*{jl−1}) $ ..\n",
        "We can add any number of layers and nodes per layer, all with same activation function\n",
        "\n",
        "![](https://raw.githubusercontent.com/chaitragopalappa/MIE590-690D/main/images/supply_chain_nn.png)\n",
        "\n",
        "\n"
      ]
    },
    {
      "cell_type": "markdown",
      "metadata": {
        "id": "7815689e"
      },
      "source": [
        "Classification problem (e.g., image classification)\n",
        "\n",
        "$Pr(y|\\mathbf{x})$;   $\\mathbf{x}\\in \\mathbb{R}^{H \\times W\\times C}$,\n",
        "\n",
        "where,\n",
        "\n",
        "$H \\times W\\times C $ represents width, height, and channels (color e.g., RGB);  \n",
        "\n",
        "We can still use MLP as in prediction problem, but\n",
        "$\\mathbf{x}$ is first flattened into 1D array for input to MLP.\n",
        "\n",
        "![](https://raw.githubusercontent.com/chaitragopalappa/MIE590-690D/main/images/MLP_Image.png)\n"
      ]
    },
    {
      "cell_type": "markdown",
      "metadata": {
        "id": "0916e4e3"
      },
      "source": [
        "# Interpretability or Explainability in AI (XAI)"
      ]
    },
    {
      "cell_type": "markdown",
      "metadata": {
        "id": "9fa4ffec"
      },
      "source": [
        "## Interpretability or Explainability in AI (XAI)\n",
        "How you do you interpret the below models?\n",
        "1. Linear regression\n",
        "$\\hat{y} = b+ w_1 x_1 + w_2 x_2 + w_3 x_3 + ... + w_N x_N$\n",
        "2. FFNN\\\n",
        "$\\hat{y}= f_L \\circ f_{L-1}\\circ f_{L-2} \\dots \\circ f_1$  \n",
        "\n",
        "where,\\\n",
        "$\\mathbf{\\mathit{z}}*l = f_l(\\mathbf{\\mathit{z}}*{l−1}) = \\varphi_l(\\mathbf{\\mathit{b}}_l +\\mathbf{W}*l z*{l−1})$  (Vector form)  \n",
        "\n",
        "![](https://raw.githubusercontent.com/chaitragopalappa/MIE590-690D/main/images/supply_chain_nn.png)\n",
        "\n",
        "\n"
      ]
    },
    {
      "cell_type": "markdown",
      "metadata": {
        "id": "fa161741"
      },
      "source": [
        "## Your inputs\n",
        "* Examples where AI/ML in general or deep learning have been applied?\n",
        "* In your specific area how do you envision using deep learning?\n",
        "* What are the issues you want to be cautious of when using deep learning in your specific areas?\n"
      ]
    },
    {
      "cell_type": "markdown",
      "metadata": {
        "id": "13cd0851"
      },
      "source": [
        "# Bias in AI/ML Models"
      ]
    },
    {
      "cell_type": "markdown",
      "metadata": {
        "id": "b28035cb"
      },
      "source": [
        "**Bias in AI/ML models**\n",
        "* [AI chatbots often advise women to ask for lower pay than men: new study](https://womensagenda.com.au/tech/ai-chatbots-often-advise-women-to-ask-for-lower-pay-than-men-new-study/)\n",
        "[Study 1](https://pmc.ncbi.nlm.nih.gov/articles/PMC11805401/#:~:text=One%20limitation%20and%20area%20for%20future%20work,university%20and%20major%2C%20as%20universities%20can%20have); [Study 2](https://arxiv.org/abs/2506.10491)\n",
        "\n",
        "Are AI/ML models the monsters?\n"
      ]
    },
    {
      "cell_type": "markdown",
      "metadata": {
        "id": "0995b621"
      },
      "source": [
        "## Interpretable Machine Learning (IML) or Explainable AI (XAI)\n",
        "How you do you interpret the below models?\n",
        "1. Linear regression\n",
        "$\\hat{y} = b+ w_1 x_1 + w_2 x_2 + w_3 x_3 + ... + w_N x_N$\n",
        "\n",
        "* Interpretation: denote an increase of a feature by one unit increases the prediction by 'w' units when all other feature values remain fixed.\n",
        "* **Everything else constant (excellence, experience, etc.), if salary is based on gender, we can identify the bias**\n",
        "\n",
        "2. Deep Learning\n",
        "* **Extracts patterns from data - no way to directly interpret**\n",
        "\n",
        "![](https://raw.githubusercontent.com/chaitragopalappa/MIE590-690D/main/images/supply_chain_nn.png)\n"
      ]
    },
    {
      "cell_type": "markdown",
      "metadata": {
        "id": "7de6cc50"
      },
      "source": [
        "**Are AI/ML Models the Monsters?**\n",
        "\n",
        "**STUDY  1:**\n",
        "* About n=251 professors were asked to review 1 of 8 identical CVs of candidates for postdoc.\n",
        "* Candidate Name on CV were used to manipulate candidates race and gender.\n",
        "\n",
        "RESULTS\n",
        "* Male post-doc candidates rated as more competent and hireable than female candidates;\n",
        "* White and Asian candidates rated as more competent and hireable than Black and Latinx candidates.\n",
        "* Black women and Latinx women and men candidates were rated the lowest in hireability compared to all others.\n",
        "\n",
        "**STUDY 2:**\n",
        "For an undergraduate lab manager position:\n",
        "* Male and female science professors at R1 Universities each rated one application\n",
        "* Same application, only the name was different Karen or Brian\n",
        "\n",
        "RESULTS\n",
        "* Male applicant rated as more competent, more hirable, more suitable for mentoring, and offered them higher salaries.\n",
        "\n",
        "**STUDY 3:**\n",
        "* Study in 2004: Exact same resumes were sent out, with only the name of the applicant changed.\n",
        "\n",
        "RESULT:\n",
        "* Names inferred to be White (Emily/Greg) received 50% more callbacks for interviews than names inferred to be Black (Lakesha/Jamal).\n",
        "\n",
        "**STUDY 4:**\n",
        "* Two decades later, a new study shows that not much has changed (Patrick Kline, et al., 2021)\n",
        "\n",
        "References\n",
        "* Jost, J. T. (2019). The IAT Is Dead, Long Live the IAT: Context-Sensitive Measures of Implicit Attitudes Are Indispensable to Social and Political Psychology. Current Directions in Psychological Science, 28(1), 10–19. https://doi.org/10.1177/0963721418797309\n",
        "* Greenwald AG, Banaji MR. The implicit revolution: Reconceiving the relation between conscious and unconscious. Am Psychol. 2017 Dec;72(9):861-871. doi: 10.1037/amp0000238. PMID: 29283625.\n",
        "* Ridgeway, C. L., & Nakagawa, S. (2017). Is Deference the Price of Being Seen as Reasonable? How Status Hierarchies Incentivize Acceptance of Low Status. Social Psychology Quarterly, 80(2), 132–152. https://doi.org/10.1177/0190272517695213\n",
        "* Moss-Racusin, et al. Science faculty’s subtle gender biases favor male students, (2012). PNAS 109(41), 16474-16479.\n",
        "* Madera, J. M., Hebl, M. R., Dial, H., Martin, R., & Valian, V. (2019). Raising doubt in letters of recommendation for academia: Gender differences and their impact. Journal of Business and Psychology, 34(3), 287–303. https://doi.org/10.1007/s10869-018-9541-1\n",
        "* Bertrand, Marianne, and Sendhil Mullainathan. 2004. \"Are Emily and Greg More Employable Than Lakisha and Jamal? A Field Experiment on Labor Market Discrimination.\" American Economic Review, 94 (4): 991-1013.DOI: 10.1257/0002828042002561\n",
        "* Eaton, A. A., Saunders, J. F., Jacobson, R. K., & West, K. (2019). How Gender and Race Stereotypes Impact the Advancement of Scholars in STEM: Professors’ Biased Evaluations of Physics and Biology Post-Doctoral Candidates. Sex Roles, 1-15. doi: 10.1007/s11199-019-01052-w\n",
        "* Patrick Kline, et al. Systemic Discrimination Among Large U.S. Employers, The Quarterly Journal of Economics, Volume 137, Issue 4, November 2022, Pages 1963–2036, https://doi.org/10.1093/qje/qjac024\n",
        "* Knobloch-Westerwick, S., Glynn, C. J., & Huge, M. (2013). The Matilda Effect in Science Communication: An Experiment on Gender Bias in Publication Quality Perceptions and Collaboration Interest. Science Communication, 35(5), 603–625. https://doi.org/10.1177/1075547012472684\n",
        "\n"
      ]
    },
    {
      "cell_type": "markdown",
      "metadata": {
        "id": "03c85056"
      },
      "source": [
        "**Are Professor/ Employers the Monsters?**\n",
        "\n",
        "STUDY 1:\n",
        "* 19,952 student evaluations of university faculty in a context where students are randomly allocated to female or male instructors.\\\n",
        "RESULTS:\n",
        "* Women receive systematically lower teaching evaluations than their male colleagues, larger difference for mathematical courses, and junior women\n",
        "\n",
        "STUDY 2:\n",
        "* Six hundred and seventy-one university students were asked to watch a video lecture delivered by either a male or female lecturer\n",
        "* To ensure consistency across content, tone, delivery, environment, and overall appearance, photorealistic 3D avatars were used to deliver the lectures. Only gender as a factor was manipulated.\\\n",
        "RESULTS:\n",
        "* Overall male instructors scored significantly higher\n",
        "\n",
        "STUDY 3:\n",
        "* One male instructor provided the same guest lecture to 8 sections of a communication course.\n",
        "* In half of the sections, he referred to “my partner” as Jennifer, and in the other half as Jason.\\\n",
        "RESULTS:\n",
        "* The “straight” instructor received 22% more positive comments than the “gay” instructor.\n",
        "* The “gay” instructor received five times as many critical comments as the “straight” instructor.\n",
        "\n",
        "References\n",
        "* Russ, et al. (2002). Coming Out in the Classroom . . . An Occupational Hazard?: The Influence of Sexual Orientation on Teacher Credibility and Perceived Student Learning. Communication Education, 51(3), 311-324.\n",
        "* Mengel, F. etl al., GENDER BIAS IN TEACHING EVALUATIONS, Journal of the European Economic Association 2019 17(2):535–566\n",
        "* Khokhlova, O. et. al., Front. Educ., 26 July 2023 Sec. Higher Education Volume 8 - 2023\n",
        "\n"
      ]
    },
    {
      "cell_type": "markdown",
      "metadata": {
        "id": "985c3687"
      },
      "source": [
        "## **AI amplifies Bias introduced by humans**\n",
        "\n",
        "* Implicit bias is part of each of us (introduced by the environment we grow-up in)\n",
        "* Consciously check our own biases - if you are part of generating the data or determining what data to use for model training\n",
        "* Check for data bias\n",
        "* Check for model bias\n"
      ]
    },
    {
      "cell_type": "markdown",
      "metadata": {
        "id": "3862ce74"
      },
      "source": [
        "## Lack of interpretability/ explainability can introduce bias in predictions.\n",
        "\n",
        "Then, is interpretability/ explainability only relevant for social science based applications?\n"
      ]
    },
    {
      "cell_type": "markdown",
      "metadata": {
        "id": "8beb09f6"
      },
      "source": [
        "## Image data - Bias\n",
        "* [Facial recognition examples are probably more familiar](https://sciencepolicy.hsites.harvard.edu/blog/racial-discrimination-face-recognition-technology)\n",
        "* For engineering applications?\n",
        "  * [Tree species classification problem -Figure 1](https://dl.acm.org/doi/pdf/10.1145/3563691): The highlighted features show the model was 'looking' at the building when making its decision\n",
        "  * Defect detection in manufacturing\n"
      ]
    },
    {
      "cell_type": "markdown",
      "metadata": {
        "id": "d84bb502"
      },
      "source": [
        "# What is AI-Engineering?\n",
        "\n",
        "Model requirements for engineering applications\n",
        "* Interpretable/ explainable\n",
        "* Robust\n",
        "\n",
        "**AI-Engineering**\n",
        "AI Engineering is a nascent field leveraging the traditional strengths of engineering disciplines with developments in artificial intelligence (AI). The term was coined by the NSF Engineering Research Visioning Alliance (ERVA), Report | AI Engineering: A Strategic Research Framework to Benefit Society. As the report highlights “AI Engineering will be bidirectional and reciprocal: it evokes a future vision in which an engineering approach makes for better AI while AI makes for better-engineered systems.\"\n",
        "\n",
        "The report coins the term AI Engineering as an **amalgamation of topics in \"Engineering for AI\" and \"AI for Engineering.\"** Engineering for AI integrates engineering techniques and domain knowledge across various disciplines to develop explainable and reliable AI-enabled systems. AI for Engineering, on the other hand, utilizes AI to enhance computational efficiency, automation, creativity, and scalability in engineered systems and processes.\n"
      ]
    },
    {
      "cell_type": "markdown",
      "metadata": {
        "id": "386d62d0"
      },
      "source": [
        "# Engineering Applications of Deep Learning"
      ]
    },
    {
      "cell_type": "markdown",
      "metadata": {
        "id": "3fb1967c"
      },
      "source": [
        "## Applications of AI/ML in my lab:\n",
        "\n",
        "1. Predicting outbreaks (HIV, COVID, TB) for rapid response (millions of lives, billions of dollars)\n",
        "   * Create national-level models for prediction and intervention decision analyses\n",
        "   * Every jurisdiction has a different epidemic - need autonomous policies, however, jurisdictions are not isolated from epidemic standpoint (infection percolate across boundaries)\n",
        "   * Behaviors not driven by one factor - not quarantining or taking medication (which could prevent spread) could be from forgetting to take, not having insurance, basic needs (e.g., food and housing) may take higher priority, unable to take leave to keep health appointment (for renewal of medication); Not considering these social determinants of behaviors can lead to prediction and resource allocation errors\n",
        "2. Predicting dimensions of nutrition health (behavioral, economic insecurity, social barriers - housing/transportation barriers, disability- physical / mental health barriers to access)\n",
        "\n",
        "**Application examples**:\n",
        "* Resource allocation in U.S. Ending the HIV Epidemic national plan\n",
        "* Screening guidelines in WHO Global Action Plan for low-and-middle-income countries (to inform UN Sustainable Goals)\n",
        "\n",
        "**Challenges**:\n",
        "* Developing mechanistic/physics informed models not feasible given complexity\n",
        "* Learning purely from data is computationally expensive, not robust, not interpretable\n",
        "\n",
        "**Approach**: Incorporating mechanistic models into ML models (Engineering in AI and AI in Engineering)\n",
        "* Copula informed ML\n",
        "* Network theories informed deep learning of network growth\n",
        "* Simulation assisted RL\n",
        "* Differential equations model in multi-agent Deep RL\n",
        "\n"
      ]
    },
    {
      "cell_type": "markdown",
      "metadata": {
        "id": "f26bb765"
      },
      "source": [
        "## **Seminar on September 12th**\n",
        "* Scalable Multi-agent Reinforcement Learning for Factory-wide Dynamic Scheduling, Prof. Diego Klabjan from Northwestern University\n",
        "* Friday, August 12, from 12–1pm in the Gunness Student Center.\n"
      ]
    },
    {
      "cell_type": "markdown",
      "metadata": {
        "id": "a8964417"
      },
      "source": [
        "# Course Schedule\n",
        "\n",
        "| **Date** | **Week** | **Topic** | **Mon/Wed** |\n",
        "|----------|----------|------------|--------------|\n",
        "| 1-Sep    | Week 1   | Introduction | — |\n",
        "| 8-Sep    | Week 2   | Overview of SML | Lecture / Lab |\n",
        "| **Neural Networks for Structured Data** | | | |\n",
        "| 15-Sep   | Week 3   | FFNN basics | Lecture / Lab |\n",
        "| 22-Sep   | Week 4   | FFNN deeper-dive | Lecture / Lab |\n",
        "| 29-Sep   | Week 5   | Explainable AI (XAI) | Lecture / Lab |\n",
        "| 6-Oct    | Week 6   | Engineering in AI | Lecture / Lab |\n",
        "| 13-Oct   | Week 7   | Midterm Exam 1 | Holiday / Exam 1 |\n",
        "| **Neural Networks for Images** | | | |\n",
        "| 20-Oct   | Week 8   | CNN | Lecture / Lab |\n",
        "| 27-Oct   | Week 9   | XAI for CNN | (Traveling–INFORMS conference) Lecture / Lab |\n",
        "| **Neural Networks for Sequences** | | | |\n",
        "| 3-Nov    | Week 10  | RNN | Lecture / Lab |\n",
        "| 10-Nov   | Week 11  | Advanced RNN | Lecture / Lab |\n",
        "| 17-Nov   | Week 12  | Autoencoders, Attention networks | Lecture / Lab |\n",
        "| 24-Nov   | Week 13  | Midterm Exam 2 | Exam 2 / Holiday |\n",
        "| 1-Dec    | Week 14  | Transformers, LLM | Lecture / Lab |\n",
        "| 8-Dec    | Week 15  | Project presentation / No class | — |\n",
        "|          |          | **Project report due Dec 14 (Sunday)** | |\n",
        "\n",
        "\n"
      ]
    },
    {
      "cell_type": "markdown",
      "metadata": {
        "id": "b169f7df"
      },
      "source": [
        "## **Learning outcomes**\n",
        "1. Build a strong foundation of the fundamentals of Deep Learning\n",
        "2. Ability to not only use AI in Engineering, but also envision use of Engineering in AI (I am referring to Engineering in broad terms; each of you have your own branch and sub-branches, which is outside my expertise even)\n",
        "3. Develop the skills to be part of the workforce transformation, and lead the industry in the AI transformation for effectiveness (doing thing faster and better than with current methods) or innovation (solve problems that seemed beyond reach prior to AI)\n",
        "4. Learn how to learn in a continuously evolving landscape\n",
        "\n",
        "## My expectations\n",
        "* I view this class as a partnership between myself and each student as well as between each of you.\n",
        "* I view a classroom setting as a place to learn - in a supported environment without judgement - and grow as individuals to contribute positively to the community.\n",
        "* I look forward to working and learning together.\n",
        "\n"
      ]
    },
    {
      "cell_type": "markdown",
      "metadata": {
        "id": "f34f284d"
      },
      "source": [
        "**Assignments**\n",
        "* Midterm 1: 20 points\n",
        "* Midterm 2: 20 points\n",
        "* Computational assignment 1: 10 points\n",
        "* Computational assignment 2: 10 points\n",
        "* Class participation: 10 points (computational assignments in lab)\n",
        "* Team Project (2 per group): 30 points\\\n",
        "*Assignments for the 600-level class will have an additional question that requires an understanding of the techniques studied.*\n",
        "\n",
        "**Late submission**\\\n",
        "There will be a penalty for late submission, on a per day basis with a limit. Default: 1 point penalty per day for maximum of 3 days (subject to change). Applies to the two computational assignments.\n",
        "\n",
        "Assignment submissions: Canvas\n"
      ]
    },
    {
      "cell_type": "markdown",
      "metadata": {
        "id": "fe6cfb00"
      },
      "source": [
        "## Office Hours\n",
        "\n",
        "**Mondays 1:00 – 3:00 PM, Thursdays 1:00 – 3:00 PM**\n",
        "\n",
        "Office: ELab I, 208A\n",
        "\n",
        "* Office hours are an informal opportunity for engagement between you and me.\n",
        "* Use if for general discussions related to your scholarly work, professional development, career interests etc.\n",
        "* Use it for questions related to this course - improve technical understanding, build confidence, ask for clarification, and practice self-advocacy.\n",
        "* You can come by yourself or with classmates.\n"
      ]
    },
    {
      "cell_type": "markdown",
      "metadata": {
        "id": "74984c24"
      },
      "source": [
        "# References\n",
        "1. [Probabilistic machine learning, An Introduction, Kevin Murphy, MIT Press, 2022](https://probml.github.io/pml-book/book1.html); Chapters 13, 14, and 15      \n",
        "2. I will use additional resources to supplement the main book\n",
        "* [Deep Learning, Ian Goodfellow and Yoshua Bengio and Aaron Courville, MIT Press, 2016](http://www.deeplearningbook.org)\n",
        "* [Hands-on Machine Learning with Scikit-Learn, Keras and TensorFlow (3rd edition), by Aurélien Geron](https://github.com/ageron/handson-ml3)\n",
        "* [Deep learning with Python, Francois Chollet](https://sourestdeeds.github.io/pdf/Deep%20Learning%20with%20Python.pdf)\n",
        "  * [GITHUB with Keras](https://github.com/fchollet/deep-learning-with-python-notebooks/blob/master/README.md)\n",
        "* [Interpretable Machine Learning: A Guide for Making Black Box Models Explainable, by Christoph Molnar](https://christophm.github.io/interpretable-ml-book/)\n",
        "* [Dive into Deep Learning, by Aston Zhang, Zachary C. Lipton, Mu Li, Alexander J. Smola](https://d2l.ai/index.html)\n",
        "* XAI packages  \n",
        "  * [SHAP](https://github.com/shap/shap#deep-learning-example-with-gradientexplainer-tensorflowkeraspytorch-models)  \n",
        "  * [CAPTUM](https://captum.ai/docs/attribution_algorithms)  \n",
        "  * [TF-Explain](https://pypi.org/project/tf-explain/) [GitHUB](https://github.com/sicara/tf-explain)\n",
        "* [Hands-On-Deep-Learning-Algorithms-with-Python](https://github.com/PacktPublishing/Hands-On-Deep-Learning-Algorithms-with-Python/tree/master)\n",
        "\n"
      ]
    },
    {
      "cell_type": "markdown",
      "metadata": {
        "id": "ac20586e"
      },
      "source": [
        "## Open source tutorials for topics related to course prerequisites\n",
        "1. [Google's Machine Learning Crash Course](https://developers.google.com/machine-learning/crash-course){:target=\"_blank\"} Overview of statistical ML (linear regression, logistic regression, decision trees, classification)\n",
        "2. [Python scripts for statistical machine learning using Scikit Learn](https://scikit-learn.org/stable/user_guide.html)\n",
        "3. [Python scripts for statistical machine learning using Tensorflow](https://www.tensorflow.org/hub/tutorials)\n"
      ]
    },
    {
      "cell_type": "markdown",
      "metadata": {
        "id": "6874d3f8"
      },
      "source": [
        "# INFORMS Data Challenge Competition\n",
        "[Power outage prediction](https://sites.google.com/view/dmdaworkshop2025/data-challenge)\n",
        "\"*Accurate short-term outage forecasting is essential for improving grid resilience, enabling proactive crew deployment, optimizing resource allocation, and ultimately minimizing societal and economic impacts.*\"\\\n",
        "Competition will run until September 26th, 2025.\\\n",
        "Registration will close Friday, September 5 (AOE).\n"
      ]
    }
  ]
}