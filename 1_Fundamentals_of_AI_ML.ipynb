{
  "nbformat": 4,
  "nbformat_minor": 0,
  "metadata": {
    "colab": {
      "provenance": [],
      "collapsed_sections": [
        "i4cZrpw-KzW7",
        "DnZ8AoHQUgDE"
      ],
      "authorship_tag": "ABX9TyM7Mrlgo5Fw4PS+7ps1qRZw",
      "include_colab_link": true
    },
    "kernelspec": {
      "name": "python3",
      "display_name": "Python 3"
    },
    "language_info": {
      "name": "python"
    }
  },
  "cells": [
    {
      "cell_type": "markdown",
      "metadata": {
        "id": "view-in-github",
        "colab_type": "text"
      },
      "source": [
        "<a href=\"https://colab.research.google.com/github/chaitragopalappa/MIE590-690D/blob/main/1_Fundamentals_of_AI_ML.ipynb\" target=\"_parent\"><img src=\"https://colab.research.google.com/assets/colab-badge.svg\" alt=\"Open In Colab\"/></a>"
      ]
    },
    {
      "cell_type": "markdown",
      "source": [
        "# Fundamentals of AI/ML (This file provides an overview of AI/ML and reviews topics that are the prerequisites of this course)\n",
        "\n",
        "\n",
        "### Expected learning outcomes\n",
        "*   Undertsand the differences between Artificial intelligence (AI), Machine Learning (ML), and Deep Learning (DL); and the taxonomy of topics\n",
        "*   Understand the objective of AI/ML\n",
        "*   Understand the basic differences between model-based and model-free ML\n",
        "*   Refresher on foundations of ML\n",
        "*   Refresher on model-based (statistical) ML\n",
        "*   Understand the focus of this course - Deep Learning  \n",
        "\n",
        "\n",
        "\n",
        "\n",
        "\n",
        "\n",
        "\n",
        "\n",
        "\n",
        "\n",
        "\n",
        "\n",
        "\n",
        "\n",
        "\n"
      ],
      "metadata": {
        "id": "JbMYBR3ZFT3s"
      }
    },
    {
      "cell_type": "markdown",
      "source": [
        "# Artificial Intelligence (AI) v. Machine Learning (ML) v.  Deep Learning (DL)"
      ],
      "metadata": {
        "id": "i4cZrpw-KzW7"
      }
    },
    {
      "cell_type": "markdown",
      "source": [
        "### What is the objective of a AI/ML model?\n",
        "*   Fit a model to a given a dataset (i.e., learn the mathematical form of the data) to achieve a specific task\n",
        "*   Tasks could range from prediction, classificaton, clustering, to generative\n",
        "*   Multiple methods to achive this objective\n",
        "\n",
        "\n",
        "<table style=\"font-family: Arial, sans-serif; font-size: 20px;\">\n",
        "  <tr>\n",
        "    <th>ML category →</th>\n",
        "    <th>Supervised</th>\n",
        "    <th>Unsupervised/Semi-supervised</th>\n",
        "    <th>Reinforcement learning</th>\n",
        "  </tr>\n",
        "  <tr>\n",
        "    <td><strong>Tasks →</strong></td>\n",
        "    <td>Prediction, Classification, Inference, Generative</td>\n",
        "    <td>Clustering, Dimensionality reduction, Generative</td>\n",
        "    <td>Actions (decisions)</td>\n",
        "  </tr>\n",
        "  <tr>\n",
        "    <td><strong>Model-based or Statistical ML →</strong></td>\n",
        "    <td>\n",
        "      Decision trees, Linear/logistic regression, Decision trees <br>\n",
        "      <span style=\"color:#b8860b;\"><strong>(MIE 522/622)</strong></span>\n",
        "    </td>\n",
        "    <td>\n",
        "      K-means, PCA <br>\n",
        "      <span style=\"color:#b8860b;\"><strong>(MIE 522/622)</strong></span>\n",
        "    </td>\n",
        "    <td><span style=\"color:red;\"><strong>MIE 524/624</strong></span></td>\n",
        "  </tr>\n",
        "  <tr>\n",
        "    <td><strong>Deep Learning building blocks →</strong></td>\n",
        "    <td colspan=\"3\">\n",
        "      Feedforward linear or non-linear layers, convolution layers, recurrent layers, attention layers\n",
        "    </td>\n",
        "  </tr>\n",
        "  <tr>\n",
        "    <td><strong>Deep Learning (Model-free) methods →</strong></td>\n",
        "    <td>\n",
        "      FNN, CNN, RNN, Transformers, GNN <br>\n",
        "      <span style=\"color:green;\"><strong>(MIE 590/690D)</strong></span>\n",
        "    </td>\n",
        "    <td>\n",
        "      Autoencoders <br>\n",
        "      <span style=\"color:green;\"><strong>(MIE 590/690D)</strong></span>\n",
        "    </td>\n",
        "    <td><span style=\"color:red;\"><strong>MIE 524/624</strong></span></td>\n",
        "  </tr>\n",
        "  <tr>\n",
        "    <td><strong>Generative AI</strong></td>\n",
        "    <td colspan=\"3\">\n",
        "      LLM (BERT-encoder only transformer; GPT, LLaMA, DeepSeek-decoder only transformer)\n",
        "    </td>\n",
        "  </tr>\n",
        "</table>\n"
      ],
      "metadata": {
        "id": "-wrgpq2a3Ak2"
      }
    },
    {
      "cell_type": "markdown",
      "source": [
        "## Supervised v. unsupervised v. reinforcement learning\n",
        "* Supervised learning uses labeled data to train models\n",
        "* Unsupervised learning uses unlabeled data to find patterns and relationships\n",
        "* Reinforcement learning involves training agents to make decisions\n",
        "\n"
      ],
      "metadata": {
        "id": "M6NHCldHXDg7"
      }
    },
    {
      "cell_type": "markdown",
      "source": [
        "# Mathematical foundations of ML"
      ],
      "metadata": {
        "id": "DnZ8AoHQUgDE"
      }
    },
    {
      "cell_type": "markdown",
      "source": [
        "### Math foundations\n",
        "* Random variables\n",
        "  * Discrete RV\n",
        "  * Continuous RV\n",
        "  * Sigmoid (logistic) function\n",
        "  * Softmax function\n",
        "* Linear algebra\n",
        "  * Vectors spaces\n",
        "  * Norms of vector and matrix\n",
        "  * Matrix multiplication\n",
        "  * Matrix inversion\n",
        "* Matrix calculus\n",
        "  * Derivatives\n",
        "  * Gradients\n",
        "  * Jacobian\n",
        "  * Hessian\n",
        "* Optimization\n",
        "  * First-order methods (descent direction, stepsize, convergence rate)\n",
        "  * Stochastic gradient descent\n",
        "\n"
      ],
      "metadata": {
        "id": "USeu-6qTUpCr"
      }
    },
    {
      "cell_type": "markdown",
      "source": [
        "# (Model Based) Statistical ML Overview"
      ],
      "metadata": {
        "id": "rTu4LZp9ir7S"
      }
    },
    {
      "cell_type": "markdown",
      "source": [
        "## (Model Based) Statistical ML Overview\n",
        "*  They are generally model-based or model-driven techniques unlike deep learning that are data-driven, i.e., learn patterns through use of large data (note: deep learning is not math-free it is model-free)
        "* They include methods that are inherently interpretable to generally more interpretable than deep learning. They are generally model-based techniques\n",
        "*  Commonly used methods\n",
        "  * [Linear regression for prediction](https://developers.google.com/machine-learning/crash-course/linear-regression)  \n",
        "    * [Regularization techniques: Ridge, Lasso, Elastic Net](https://aunnnn.github.io/ml-tutorial/html/blog_content/linear_regression/linear_regression_regularized.html)\n",
        "    * [Analysis steps with programming- in TensorFlow](https://www.tensorflow.org/guide/core/quickstart_core)\n",
        "    * [Analysis steps with programming guide](https://colab.research.google.com/github/google/eng-edu/blob/main/ml/cc/exercises/linear_regression_taxi.ipynb?utm_source=mlcc&utm_campaign=colab-external&utm_medium=referral&utm_content=linear_regression#scrollTo=W6a7dtcCob-n)\n",
        "  * [Logistic regression for prediction](https://developers.google.com/machine-learning/crash-course/logistic-regression)\n",
        "    * [Analysis steps with programming in TensorFlow](https://www.tensorflow.org/guide/core/logistic_regression_core)\n",
        "  *   [Decision trees for classification](https://scikit-learn.org/stable/modules/tree.html)\n",
        "  *   [Support vector machines for classification](https://scikit-learn.org/stable/modules/svm.html)\n",
        "  * [Nearest neighbors](https://scikit-learn.org/stable/modules/neighbors.html)\n",
        "  *   [K-means for clustering](https://scikit-learn.org/stable/modules/clustering.html#k-means)\n",
        "  * [Naive Bayes](https://scikit-learn.org/stable/modules/naive_bayes.html)\n",
        "  * [Dimensionality reduction using PCA](https://scikit-learn.org/stable/modules/unsupervised_reduction.html#)\n",
        "\n",
        "\n",
        "\n",
        "\n",
        "\n",
        "\n",
        "\n",
        "\n",
        "\n",
        "\n",
        "\n",
        "\n",
        "\n",
        "\n",
        "\n"
      ],
      "metadata": {
        "id": "HXWFJOuqFruN"
      }
    },
    {
      "cell_type": "markdown",
      "source": [
        "# Data Handling"
      ],
      "metadata": {
        "id": "5N8kWjBYngl8"
      }
    },
    {
      "cell_type": "markdown",
      "source": [
        "## Data processing overview\n",
        "[Google ML crash course on Data](https://developers.google.com/machine-learning/crash-course/overfitting) :\n",
        "1. Working with numerical data\n",
        "2. Working with categorical data\n",
        "3. Datasets, generalization and overfitting\n",
        "1. Vizualize the data: review data statistics,check for outliners, check for bad data\n",
        "2. Data preparation: normalize (min-max scaling, z-score normalization, log transformation, clipping)\n"
      ],
      "metadata": {
        "id": "S7jRbTadnoyD"
      }
    },
    {
      "cell_type": "markdown",
      "source": [
        "#"
      ],
      "metadata": {
        "id": "cjEohx5KX6tn"
      }
    }
  ]
}
