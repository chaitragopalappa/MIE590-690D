{
  "nbformat": 4,
  "nbformat_minor": 0,
  "metadata": {
    "colab": {
      "provenance": [],
      "authorship_tag": "ABX9TyOra9yBb0wba+83VSRiQn67",
      "include_colab_link": true
    },
    "kernelspec": {
      "name": "python3",
      "display_name": "Python 3"
    },
    "language_info": {
      "name": "python"
    }
  },
  "cells": [
    {
      "cell_type": "markdown",
      "metadata": {
        "id": "view-in-github",
        "colab_type": "text"
      },
      "source": [
        "<a href=\"https://colab.research.google.com/github/chaitragopalappa/MIE590-690D/blob/main/1_Fundamentals_of_AI_ML.ipynb\" target=\"_parent\"><img src=\"https://colab.research.google.com/assets/colab-badge.svg\" alt=\"Open In Colab\"/></a>"
      ]
    },
    {
      "cell_type": "markdown",
      "source": [
        "# Lecture 1. Fundamentals of AI/ML (Part of MIE Course on Deep Learning for Engineering Applications)\n",
        "\n",
        "\n",
        "### Expected learning outcomes\n",
        "*   Undertsand the differences between Artificial intelligence (AI), Machine Learning (ML), and Deep Learning (DL); and the taxonomy of topics\n",
        "*   Understand the objective of AI/ML\n",
        "*   Understand the basic differences between model-based and model-free ML\n",
        "*   Refresher on foundations of ML\n",
        "*   Refresher on model-based (statistical) ML\n",
        "*   Understand the focus of this course - Deep Learning  \n",
        "\n",
        "\n",
        "\n",
        "\n",
        "\n",
        "\n",
        "\n",
        "\n",
        "\n",
        "\n",
        "\n",
        "\n",
        "\n",
        "\n",
        "\n"
      ],
      "metadata": {
        "id": "JbMYBR3ZFT3s"
      }
    },
    {
      "cell_type": "markdown",
      "source": [
        "# New Section"
      ],
      "metadata": {
        "id": "i4cZrpw-KzW7"
      }
    },
    {
      "cell_type": "markdown",
      "source": [
        "# Overview of  Artificial Intelligence (AI), Machine Learning (ML), and Deep Learning (DL)\n",
        "### Objective of AI/ML models\n",
        "*   Given a dataset fit a model to achieve specific tasks\n",
        "*   Tasks could range from prediction, classificaton, clustering, to generative\n",
        "*   Multiple methods to achive this objective\n",
        "\n",
        "\n",
        "<table>\n",
        "  <tr>\n",
        "    <th>ML category →</th>\n",
        "    <th>Supervised</th>\n",
        "    <th>Unsupervised/Semi-supervised</th>\n",
        "    <th>Reinforcement learning</th>\n",
        "  </tr>\n",
        "  <tr>\n",
        "    <td><strong>Tasks →</strong></td>\n",
        "    <td>Prediction, Classification, Inference, Generative</td>\n",
        "    <td>Clustering, Dimensionality reduction, Generative</td>\n",
        "    <td>Actions (decisions)</td>\n",
        "  </tr>\n",
        "  <tr>\n",
        "    <td><strong>Model-based or Statistical ML →</strong></td>\n",
        "    <td>\n",
        "      Decision trees, Linear/logistic regression, Decision trees <br>\n",
        "      <span style=\"color:#b8860b;\"><strong>(MIE 522/622)</strong></span>\n",
        "    </td>\n",
        "    <td>\n",
        "      K-means, PCA <br>\n",
        "      <span style=\"color:#b8860b;\"><strong>(MIE 522/622)</strong></span>\n",
        "    </td>\n",
        "    <td><span style=\"color:red;\"><strong>MIE 524/624</strong></span></td>\n",
        "  </tr>\n",
        "  <tr>\n",
        "    <td><strong>Deep Learning building blocks →</strong></td>\n",
        "    <td colspan=\"3\">\n",
        "      Feedforward linear or non-linear layers, convolution layers, recurrent layers, attention layers\n",
        "    </td>\n",
        "  </tr>\n",
        "  <tr>\n",
        "    <td><strong>Deep Learning (Model-free) methods →</strong></td>\n",
        "    <td>\n",
        "      FNN, CNN, RNN, Transformers, GNN <br>\n",
        "      <span style=\"color:green;\"><strong>(MIE 590/690D)</strong></span>\n",
        "    </td>\n",
        "    <td>\n",
        "      Autoencoders <br>\n",
        "      <span style=\"color:green;\"><strong>(MIE 590/690D)</strong></span>\n",
        "    </td>\n",
        "    <td><span style=\"color:red;\"><strong>MIE 524/624</strong></span></td>\n",
        "  </tr>\n",
        "  <tr>\n",
        "    <td><strong>Generative AI</strong></td>\n",
        "    <td colspan=\"3\">\n",
        "      LLM (BERT-encoder only transformer; GPT, LLaMA, DeepSeek-decoder only transformer)\n",
        "    </td>\n",
        "  </tr>\n",
        "</table>\n"
      ],
      "metadata": {
        "id": "-wrgpq2a3Ak2"
      }
    },
    {
      "cell_type": "markdown",
      "source": [
        "# (Model Based) Statistical ML Overview\n",
        "*  They are generally model-based techniques\n",
        "*  They are inherently interpretable, which makes the outcomes explainable\n",
        "\n",
        "[Prediction using linear regression; Link to Google ML Crash Course](https://developers.google.com/machine-learning/crash-course/linear-regression)  \n",
        "The objective of ML is to fit a model to the data.\n",
        "*  What is the 'model' in the two examples?\n",
        "*  What is the data?\n",
        "*  What does fitting the model refer to here, i.e., what are we estimating?\n",
        "\n",
        "\n",
        "\n",
        "\n",
        "\n",
        "\n",
        "\n",
        "\n",
        "\n",
        "\n",
        "\n",
        "\n",
        "\n"
      ],
      "metadata": {
        "id": "HXWFJOuqFruN"
      }
    }
  ]
}