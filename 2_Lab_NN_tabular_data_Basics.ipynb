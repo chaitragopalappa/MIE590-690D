{
  "nbformat": 4,
  "nbformat_minor": 0,
  "metadata": {
    "colab": {
      "provenance": [],
      "authorship_tag": "ABX9TyNmYlHAnavuKu+VRvYIzs+5",
      "include_colab_link": true
    },
    "kernelspec": {
      "name": "python3",
      "display_name": "Python 3"
    },
    "language_info": {
      "name": "python"
    }
  },
  "cells": [
    {
      "cell_type": "markdown",
      "metadata": {
        "id": "view-in-github",
        "colab_type": "text"
      },
      "source": [
        "<a href=\"https://colab.research.google.com/github/chaitragopalappa/MIE590-690D/blob/main/2_Lab_NN_tabular_data_Basics.ipynb\" target=\"_parent\"><img src=\"https://colab.research.google.com/assets/colab-badge.svg\" alt=\"Open In Colab\"/></a>"
      ]
    },
    {
      "cell_type": "markdown",
      "source": [
        "# Neural Networks for Structured Data or Tabular data\n",
        "Feed Forward Neural Network (FFNN) / Multi-layer Perceptrons (MLP)\n",
        "References:\n",
        "* Chapter 13, Probabilistic Machine Learning: An Introduction by Kevin Murphy  \n",
        "\n",
        "---"
      ],
      "metadata": {
        "id": "-e1YX7UMzVku"
      }
    },
    {
      "cell_type": "markdown",
      "source": [
        "# **Section 1**: Fundamentals of NN and BackProp (do not use inbuilt NN packages)"
      ],
      "metadata": {
        "id": "1oE7c6adCLMU"
      }
    },
    {
      "cell_type": "markdown",
      "source": [
        "**Review**\n",
        "\n",
        " Review Lecture 2 Backprog programming exercise\n",
        " * We explicitly coded backprop (no in-built package)\n",
        " * We set NN architecture to one hidden layer - number of nodes in the hidden layer was a user input\n",
        " * We used symbolic differentiation  \n",
        "\n",
        "---"
      ],
      "metadata": {
        "id": "7etw0n0yXPmG"
      }
    },
    {
      "cell_type": "markdown",
      "source": [
        "**Programming Exercise**\n",
        "\n",
        "1. Modify above code to use two hidden layers\n",
        "2. Modify above code to use AutoDiff\n",
        "---"
      ],
      "metadata": {
        "id": "KwUQ1Elickx2"
      }
    },
    {
      "cell_type": "markdown",
      "source": [
        "# **Section 2**: Use inbuilt packages for NN and Backprop"
      ],
      "metadata": {
        "id": "Knp590RgCYXj"
      }
    },
    {
      "cell_type": "markdown",
      "source": [
        "**Review**\n",
        "\n",
        "* PyTorch code 2b_NN_PyTorch_Basic.ipynb\n",
        "\n"
      ],
      "metadata": {
        "id": "lJPsQ6p78XK5"
      }
    },
    {
      "cell_type": "markdown",
      "source": [
        "**Review**\n",
        "\n",
        "\n",
        "1. [Basics- NN with Keras](https://github.com/ageron/handson-ml3/blob/main/10_neural_nets_with_keras.ipynb).\n",
        "Focus on the below\n",
        "* Regression MLP (California housing data)\n",
        "* Hyperparamter tuning optimizer using RandomizedSearchCV\n",
        "* Additional components for self-review (complex architectures that are not a fully connected feed forward network- see Functional API; using 'call backs' to improve training workflow : objects called at various stages of training, e.g., for saving model, early stopping criteria, monitoring; use of tensorboard for evaluating results under hyperparamters )\n",
        "\n"
      ],
      "metadata": {
        "id": "KJkIjgdgwTTY"
      }
    },
    {
      "cell_type": "markdown",
      "source": [
        "**Review**\n",
        "\n",
        " MLP for classification\n",
        " [Tensor playground](https://playground.tensorflow.org/#activation=tanh&batchSize=10&dataset=circle&regDataset=reg-plane&learningRate=0.03&regularizationRate=0&noise=0&networkShape=4,2&seed=0.02424&showTestData=false&discretize=false&percTrainData=50&x=true&y=true&xTimesY=false&xSquared=false&ySquared=false&cosX=false&sinX=false&cosY=false&sinY=false&collectStats=false&problem=classification&initZero=false&hideText=false)\n",
        "\n"
      ],
      "metadata": {
        "id": "OlGpX_ONa37v"
      }
    }
  ]
}